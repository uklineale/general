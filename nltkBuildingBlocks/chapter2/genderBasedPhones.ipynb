{
 "metadata": {
  "name": ""
 },
 "nbformat": 3,
 "nbformat_minor": 0,
 "worksheets": [
  {
   "cells": [
    {
     "cell_type": "code",
     "collapsed": false,
     "input": [
      "#Find if female and male names have any similar sounds\n",
      "#Awww, no sounds in the CMU of names\n",
      "#Changing to phonemes in brown news categories\n",
      "import nltk"
     ],
     "language": "python",
     "metadata": {},
     "outputs": [],
     "prompt_number": 1
    },
    {
     "cell_type": "code",
     "collapsed": false,
     "input": [
      "entries = nltk.corpus.cmudict.entries()\n",
      "brown = nltk.corpus.brown"
     ],
     "language": "python",
     "metadata": {},
     "outputs": [],
     "prompt_number": 7
    },
    {
     "cell_type": "code",
     "collapsed": false,
     "input": [
      "fictionPhons = ["
     ],
     "language": "python",
     "metadata": {},
     "outputs": [
      {
       "metadata": {},
       "output_type": "pyout",
       "prompt_number": 6,
       "text": [
        "['adventure',\n",
        " 'belles_lettres',\n",
        " 'editorial',\n",
        " 'fiction',\n",
        " 'government',\n",
        " 'hobbies',\n",
        " 'humor',\n",
        " 'learned',\n",
        " 'lore',\n",
        " 'mystery',\n",
        " 'news',\n",
        " 'religion',\n",
        " 'reviews',\n",
        " 'romance',\n",
        " 'science_fiction']"
       ]
      }
     ],
     "prompt_number": 6
    },
    {
     "cell_type": "code",
     "collapsed": false,
     "input": [],
     "language": "python",
     "metadata": {},
     "outputs": [
      {
       "output_type": "stream",
       "stream": "stdout",
       "text": [
        "['Tye', 'Blayne', 'Forrester', 'Reuven', 'Stuart', 'Waylon', 'Ignace', 'Hakeem', 'Marcel', 'Connolly', 'Fairfax', 'Merlin', 'Herold', 'Magnus', 'Andrus', 'Dionysus', 'Granville', 'Ingmar', 'Bartholomeus', 'Tyrus', 'Spud', 'Friedrick', 'Aldwin', 'Salvatore', 'Allah', 'Marlon', 'Finn', 'Iggie', 'Griffith', 'Witty', 'Charlie', 'Ewart', 'Orrin', 'Bryan', 'Templeton', 'Wilburt', 'Ernesto', 'Rutledge', 'Rolf', 'Worth', 'Pablo', 'Antone', 'Jeffry', 'Adolpho', 'Linus', 'Sergio', 'Tyler', 'Ned', 'Gibb', 'Ludwig', 'Tod', 'Ransom', 'Eliot', 'Quinlan', 'Roland', 'Adlai', 'Karim', 'Ashby', 'Langston', 'Neville', 'Henderson', 'Marsh', 'Joaquin', 'Juergen', 'Geo', 'Rube', 'Torrin', 'Flint', 'Meier', 'Pete', 'Alton', 'Enoch', 'Adam', 'Dimitri', 'Vasily', 'Rog', 'Giovanni', 'Lewis', 'Kaleb', 'Torrence', 'Antonin', 'Kareem', 'Baillie', 'Harry', 'Zeke', 'Westbrook', 'Johannes', 'Quigly', 'Dimitris', 'Anton', 'Claus', 'Alain', 'Tremain', 'Taddeo', 'Jethro', 'Maury', 'Osmond', 'Rinaldo', 'Aub', 'Salim', 'Ulberto', 'Isaiah', 'Cesar', 'Liam', 'Vernor', 'Marvin', 'Bubba', 'Bengt', 'Jean-Marc', 'Tray', 'Davin', 'Thebault', 'Goddard', 'Jermain', 'Marco', 'Cleland', 'Hodge', 'Fletcher', 'Joseph', 'Garey', 'Lars', 'Voltaire', 'Jean-Luc', 'Kin', 'Garvin', 'Forrest', 'Gabriello', 'Rodolph', 'Corby', 'Reid', 'Obadias', 'Dickey', 'Terrill', 'Nickey', 'Mahmud', 'Salmon', 'Giorgi', 'Stinky', 'Jefry', 'Huey', 'Ward', 'Beale', 'Oral', 'Purcell', 'Quillan', 'Worthington', 'Gerald', 'Beowulf', 'Moe', 'Serge', 'Rawley', 'Levi', 'Klee', 'Myke', 'Skipper', 'Socrates', 'Alfonso', 'Horst', 'Umberto', 'Darrell', 'Job', 'Milton', 'Quincey', 'Duncan', 'Kelwin', 'Darian', 'Bret', 'John-David', 'Earle', 'Peirce', 'Yard', 'Nathan', 'Cliff', 'Armando', 'Eliott', 'Stu', 'Dunstan', 'Haskel', 'Barn', 'Heinrich', 'Bartholomew', 'Elijah', 'Osbourn', 'Cyrille', 'Renato', 'Wilburn', 'Brad', 'Agustin', 'Nikita', 'Victor', 'Batholomew', 'Foster', 'Lancelot', 'Vance', 'Robert', 'Alford', 'Ritch', 'Simmonds', 'Parker', 'Huntlee', 'Istvan', 'Freeman', 'Rowland', 'Sargent', 'Bancroft', 'Javier', 'Pepe', 'Forster', 'Russell', 'Randall', 'Darth', 'Dwane', 'Normie', 'Mendie', 'Otto', 'Marlin', 'Riley', 'Malcolm', 'Reggy', 'Buck', 'Cameron', 'Steward', 'Morry', 'Jeth', 'Arnie', 'Eberhard', 'Efram', 'Krishna', 'Ozzie', 'Ravi', 'Rickard', 'Janus', 'Zolly', 'Morse', 'Arie', 'Pavel', 'Winthrop', 'Bishop', 'Alic', 'Marcos', 'Moshe', 'Saunderson', 'Broderick', 'Yancey', 'Ignacio', 'Mohammad', 'Paulo', 'Uri', 'Algernon', 'Chadwick', 'Edmond', 'Reginauld', 'Barnard', 'Clark', 'Rudolfo', 'Knox', 'Trent', 'Marwin', 'Archy', 'Esteban', 'Kingsley', 'Antonino', 'Griswold', 'Ambros', 'Zorro', 'Alister', 'Clayborn', 'Cletus', 'Ace', 'Berkeley', 'Welbie', 'Aleksandrs', 'Pip', 'Reynard', 'Darren', 'Douggie', 'Urbanus', 'Elliott', 'Otho', 'Wyndham', 'Royal', 'Abbott', 'Edward', 'Odie', 'Brian', 'Walsh', 'Jay', 'Spike', 'Lazaro', 'Tam', 'Alastair', 'Sheffield', 'Erek', 'Thaddius', 'Cobb', 'Torrey', 'Griffin', 'Alexander', 'Durand', 'Artie', 'Ambrosius', 'Lay', 'Jud', 'Kalman', 'Kalil', 'Rockwell', 'Boyd', 'Linoel', 'Richy', 'Anatole', 'Barnett', 'Noble', 'Alphonse', 'Trenton', 'Barnabe', 'Bryant', 'Guthrey', 'Jameson', 'Frederich', 'Pietro', 'Ralph', 'Trip', 'Flipper', 'Bucky', 'Rodolfo', 'Urbain', 'Stanleigh', 'Rudd', 'Howard', 'Merell', 'Joab', 'Ari', 'Magnum', 'Quent', 'Jean-Pierre', 'Lamont', 'Derrin', 'Norwood', 'Siegfried', 'Roderic', 'Valdemar', 'Gerard', 'Niles', 'Donal', 'Kaspar', 'Elroy', 'Sollie', 'Amery', 'August', 'Clinton', 'Towney', 'Ruben', 'Welby', 'Raymond', 'Oberon', 'Pierson', 'Sauncho', 'Han', 'Tynan', 'Brewster', 'Lyle', 'Conan', 'Bruno', 'Alphonso', 'Nevins', 'Clive', 'Abe', 'Kenton', 'Lemuel', 'Rolland', 'Maximilien', 'Piggy', 'Zebulen', 'Patel', 'Jefferey', 'Bear', 'Peter', 'Christofer', 'Jordy', 'Clint', 'Stirling', 'Edsel', 'Oswald', 'Thornie', 'Torre', 'Wilbur', 'Alonso', 'Vasilis', 'Apollo', 'Hansel', 'Rudolf', 'Wilden', 'Orren', 'Jens', 'Norton', 'Vijay', 'Mathias', 'Tadeas', 'Ram', 'Lorenzo', 'Abbot', 'Hailey', 'Morty', 'Nev', 'Theodore', 'Chip', 'Carsten', 'Ivan', 'Vachel', 'Chanderjit', 'Goddart', 'Rick', 'Lionello', 'Walter', 'Renard', 'Randal', 'Gregg', 'Cyrillus', 'Winn', 'Maynard', 'Bartolomeo', 'Julian', 'Reynold', 'Thornton', 'Wang', 'Matthias', 'Pryce', 'Turner', 'Nevin', 'Joshua', 'Erick', 'Dylan', 'Antin', 'Willdon', 'Newton', 'Shelden', 'Samuele', 'Derek', 'Flin', 'Srinivas', 'Ellwood', 'Wendell', 'Heywood', 'Sigmund', 'Hans-Peter', 'Avraham', 'Town', 'Whitby', 'Dick', 'John-Patrick', 'Saunders', 'Shurlocke', 'Johnnie', 'Maxwell', 'Nigel', 'Palmer', 'Cortese', 'Davy', 'Sky', 'Xymenes', 'Yaakov', 'Brodie', 'Amadeus', 'Godfry', 'Merill', 'Jakob', 'Kenn', 'Cristopher', 'Chan', 'Arnold', 'Jervis', 'Dudley', 'Tymon', 'Tarrance', 'Kincaid', 'Cleveland', 'Kennedy', 'Barbabas', 'Townie', 'Milo', 'Fonzie', 'Ernst', 'Hal', 'Talbot', 'Euclid', 'Conrad', 'Fergus', 'Spiros', 'Abel', 'Yank', 'Wolfie', 'Henri', 'Darrin', 'Ezra', 'Omar', 'Rollins', 'Quincy', 'Randolph', 'Stig', 'Laurance', 'Wilt', 'Tiebold', 'Vite', 'Dewitt', 'Rodrick', 'Lev', 'Chaunce', 'Petey', 'Sinclair', 'Yigal', 'Neel', 'Cobby', 'Chen', 'Gershon', 'Bernard', 'Benjamen', 'Delbert', 'Carson', 'Glynn', 'Terencio', 'Traver', 'Domenico', 'Slim', 'Sidney', 'Sergeant', 'Wat', 'Cosmo', 'Brody', 'Levon', 'Darwin', 'Hall', 'Dennis', 'Stern', 'Sylvester', 'Erny', 'Vail', 'Irvin', 'Whit', 'Klaus', 'Miles', 'Sayer', 'Barclay', 'Benito', 'Jeffrey', 'Stew', 'Oleg', 'Kristian', 'Jean-Lou', 'Marcio', 'Gavin', 'Ambrosio', 'Corky', 'Elwin', 'Jabez', 'Louis', 'Tab', 'Morton', 'Hyatt', 'Spencer', 'Keenan', 'Renault', 'Thurstan', 'Zedekiah', 'Owen', 'Pincus', 'Ash', 'Virgil', 'Kermit', 'Jerome', 'Norbert', 'Burnaby', 'Henrique', 'Bruce', 'Josephus', 'Marven', 'Leopold', 'Harvard', 'Alan', 'Colin', 'Niels', 'Rainer', 'Ian', 'Broderic', 'Barney', 'Dalton', 'Bronson', 'Nealy', 'Rutherford', 'Giordano', 'Kristopher', 'Uriah', 'Emil', 'Spence', 'Llewellyn', 'Aguste', 'Jock', 'Sherlocke', 'Tedd', 'Noland', 'Filip', 'Clayton', 'Baird', 'Randolf', 'Jon', 'Ragnar', 'Lex', 'Waldemar', 'Aloysius', 'Stanton', 'Alexei', 'Ender', 'Marilu', 'Ignacius', 'Reese', 'Stevy', 'Dryke', 'Troy', 'Domenic', 'Garth', 'Jereme', 'Jasper', 'Theobald', 'Allen', 'Monte', 'Stephan', 'Rice', 'Armand', 'Lukas', 'Sanderson', 'Forester', 'Adolf', 'Munroe', 'Giavani', 'Curt', 'Pail', 'Stevie', 'Shannan', 'Brice', 'Waylin', 'Hilbert', 'Adair', 'Hagan', 'Schroeder', 'Piotr', 'Antonio', 'Johann', 'Matthiew', 'Somerset', 'Ishmael', 'Syd', 'Nealson', 'Wittie', 'Shorty', 'Donald', 'Ivor', 'Jules', 'Steffen', 'Jacques', 'Chas', 'Nate', 'Orville', 'Romeo', 'Roth', 'Marc', 'Sparky', 'Armstrong', 'Roni', 'Wolfy', 'Wilmer', 'Gary', 'Cornelius', 'Ephram', 'Napoleon', 'Dillon', 'Karsten', 'Marlowe', 'Regen', 'Gonzalo', 'Marko', 'Zebulon', 'Hans', 'Tully', 'Haven', 'Biff', 'Ehud', 'Reed', 'Damien', 'Judah', 'Arvind', 'Stanford', 'Corwin', 'Hilliard', 'Selig', 'Derick', 'Lloyd', 'Desmund', 'Welch', 'Dwayne', 'Ingamar', 'Wallache', 'Salman', 'Paddie', 'Goober', 'Pasquale', 'Hobart', 'Todd', 'Tharen', 'Zed', 'Godart', 'Kenneth', 'Shumeet', 'Basil', 'Hermon', 'Park', 'Thorpe', 'Emanuel', 'Keith', 'Moise', 'Rayner', 'Erhart', 'Douglass', 'Leif', 'Vernen', 'Jose', 'Slade', 'Markos', 'Damian', 'Hadrian', 'Bartel', 'Bjorne', 'Demetre', 'Teodoor', 'Gilbert', 'Godfrey', 'Ripley', 'Rees', 'Lazlo', 'Duane', 'Rusty', 'Wood', 'Laurent', 'Waverley', 'Thaxter', 'Allan', 'Uriel', 'Lenny', 'Davoud', 'Keefe', 'Barnebas', 'Darrick', 'Garwood', 'Gerold', 'Garrot', 'Bealle', 'Augusto', 'Jehu', 'Derron', 'Hiralal', 'Schuyler', 'Wiatt', 'Edgardo', 'Gerrard', 'Archon', 'Windham', 'Lucian', 'Rafael', 'Sherwood', 'Giraud', 'Walton', 'Derby', 'Mikhail', 'Goose', 'Harris', 'Vergil', 'Noe', 'Fernando', 'Peyton', 'Tobiah', 'Tadd', 'Bart', 'Elbert', 'Rufus', 'Kane', 'Aleks', 'Zippy', 'Titus', 'Zerk', 'Neddie', 'Bearnard', 'Emile', 'Bernd', 'Angelo', 'Alaa', 'Dominic', 'Nilson', 'Thorny', 'Marv', 'Dunc', 'Hartwell', 'Conroy', 'Garcon', 'Trev', 'Jeremias', 'Olivier', 'Colbert', 'Rock', 'Sanson', 'Thorvald', 'Case', 'Fletch', 'Roderigo', 'Hollis', 'Winslow', 'Blaine', 'Hammad', 'Redmond', 'Morten', 'Rutter', 'Alberto', 'Bernhard', 'Mac', 'Verge', 'Duffie', 'Shem', 'Raymundo', 'Yanaton', 'Lazar', 'Northrop', 'Ulric', 'Davey', 'Manish', 'Oscar', 'Derrek', 'Aldric', 'Joel', 'Erastus', 'Johnny', 'Mohammed', 'Ernie', 'Plato', 'Will', 'Lonny', 'Lem', 'Blare', 'Ephrayim', 'Pincas', 'Tore', 'Elmore', 'Benjie', 'Merrel', 'Halvard', 'Wheeler', 'Mattias', 'Jerzy', 'Ferdy', 'Melvin', 'Wilmar', 'Zalman', 'Vassily', 'Anatoly', 'Hebert', 'Douglis', 'Rodrique', 'Bob', 'Dawson', 'Mordecai', 'Sol', 'Hillard', 'Sandro', 'Hilton', 'Albatros', 'Benjamin', 'Abdel', 'Elihu', 'Kurtis', 'Eugene', 'Paco', 'Felicio', 'Bogart', 'Maurice', 'Vibhu', 'Chelton', 'Vick', 'Percival', 'Keene', 'Wojciech', 'Jef', 'Winston', 'Samuel', 'Elvis', 'Skylar', 'Mugsy', 'Binky', 'Otes', 'Lemmie', 'Higgins', 'Ambrosi', 'Everard', 'Shepherd', 'Winfred', 'Shadow', 'Mauricio', 'Andrzej', 'Hector', 'Tobin', 'Thedrick', 'Rahul', 'Haywood', 'Norman', 'Doug', 'Sebastien', 'Kevan', 'Roddie', 'Tait', 'Claybourne', 'Pace', 'Vaughan', 'Josh', 'Israel', 'Parrnell', 'Wilhelm', 'Percy', 'Derrol', 'Izaak', 'Swen', 'Carter', 'Felipe', 'Hyman', 'Meyer', 'Clemens', 'Craig', 'Baldwin', 'Aldus', 'Sturgis', 'Zacharias', 'Bary', 'Carlton', 'Toddy', 'Wells', 'Andres', 'Geof', 'Floyd', 'Richie', 'Tulley', 'Richard', 'Hanan', 'Sherwin', 'Weidar', 'Anatol', 'Benton', 'Anders', 'Bailie', 'Christopher', 'Horatius', 'Monty', 'Etienne', 'Geoffry', 'Jennings', 'Reg', 'Cyril', 'Kurt', 'Emerson', 'Roice', 'Raphael', 'Skelly', 'Neron', 'Thedric', 'Yankee', 'Garfield', 'Russel', 'Edmund', 'Gil', 'Edouard', 'Andrew', 'Barris', 'Joshuah', 'Mikel', 'Westleigh', 'Engelbert', 'Skippy', 'Wilton', 'Chane', 'Emmett', 'Sampson', 'Sansone', 'Milt', 'Wendall', 'Nolan', 'Monroe', 'Yancy', 'Angelico', 'Rex', 'Engelbart', 'Perceval', 'Jacob', 'Prasun', 'Ford', 'Randell', 'Buddy', 'Mortie', 'Silas', 'Hastings', 'Herbie', 'Carl', 'Dimitry', 'Thorndike', 'Dewey', 'Judd', 'Demosthenis', 'Wright', 'Dyson', 'Nichols', 'Barnie', 'Brant', 'Bartie', 'Willmott', 'Averell', 'Guy', 'Silvio', 'Barnaby', 'Anurag', 'Tristan', 'Christof', 'Wes', 'Parsifal', 'Andonis', 'Chancey', 'Herb', 'Ron', 'Tom', 'Hayward', 'Arther', 'Ramsey', 'Guillaume', 'Nevile', 'Giraldo', 'Natale', 'Wald', 'Shelton', 'Stewart', 'Davis', 'Hiro', 'Yale', 'Eli', 'Odysseus', 'Terence', 'Mack', 'Clarke', 'Elmer', 'Lincoln', 'Elwyn', 'Ferguson', 'Solly', 'Whittaker', 'Olin', 'Shurlock', 'Verne', 'Hymie', 'Thatch', 'Jarrett', 'Mayer', 'Shlomo', 'Sig', 'Abram', 'Rustin', 'Sawyere', 'Whitaker', 'Conway', 'Hamlen', 'Piet', 'Witold', 'Brinkley', 'Silvan', 'Horace', 'Thane', 'Seymour', 'Kingsly', 'Hermy', 'Wyatt', 'Jotham', 'Broddy', 'Sergei', 'Chandler', 'Rob', 'Beaufort', 'Charleton', 'Win', 'Nahum', 'Phillip', 'Leonerd', 'Fulton', 'Marshal', 'Aguinaldo', 'Dirk', 'Torr', 'Erl', 'Rudolph', 'Dino', 'Homer', 'Gregorio', 'Costa', 'Ibrahim', 'Clinten', 'Tamas', 'Anselm', 'Thorsten', 'Orion', 'Rocky', 'Hermann', 'Powell', 'Ewan', 'Aldis', 'Way', 'Arron', 'Garret', 'Gerhard', 'Christ', 'Mervin', 'Gardiner', 'Urban', 'Gustavus', 'Poul', 'Averill', 'Mitch', 'Kendal', 'Prescott', 'Gardner', 'Frans', 'Ryan', 'Frederico', 'Jedediah', 'Jimmie', 'Sidnee', 'Jerald', 'Tannie', 'Orbadiah', 'Vernon', 'Len', 'Whitman', 'Ty', 'Otis', 'Greggory', 'Chet', 'Raynard', 'Scot', 'Tyrone', 'Enrique', 'Darrel', 'Pinchas', 'Archibold', 'Sander', 'Simon', 'Fonz', 'Mohan', 'Gavriel', 'Rupert', 'Rodolphe', 'Forbes', 'Douglas', 'Bing', 'Ethelbert', 'Hillel', 'Greg', 'Jule', 'Cheston', 'Irving', 'Sim', 'Collin', 'Howie', 'Baron', 'Brandon', 'Carlyle', 'Putnam', 'Standford', 'Quigman', 'Filipe', 'Diego', 'Nils', 'Ev', 'Chase', 'Stearne', 'Dimitrios', 'Igor', 'Butch', 'Martino', 'Tuck', 'Hurley', 'Tyson', 'Nevil', 'Yehudi', 'Marius', 'Lefty', 'Ismail', 'Hershel', 'Leon', 'Timotheus', 'Reece', 'Burton', 'Theodoric', 'Wiley', 'Mickey', 'King', 'Galen', 'Woochang', 'Travis', 'Yule', 'Bartolemo', 'Irvine', 'Odell', 'Lyndon', 'Herve', 'Gerrit', 'Georgy', 'Axel', 'Stanley', 'Mahmoud', 'Oren', 'Udell', 'Vladamir', 'Waylen', 'Skipton', 'Tucker', 'Grady', 'Paton', 'Ashish', 'Inigo', 'Trevor', 'Luigi', 'Herman', 'Adolph', 'Warner', 'Bennet', 'Jimbo', 'Taite', 'Reagan', 'Gabe', 'Claudio', 'Abelard', 'Jean-Francois', 'Tonnie', 'Tucky', 'Teodorico', 'Tomlin', 'Osgood', 'Barrett', 'Zebadiah', 'Marten', 'Gere', 'Dietrich', 'Leroy', 'Jeremiah', 'Dickie', 'Davidson', 'Aamir', 'Fredric', 'Ajai', 'Giovanne', 'Ansel', 'Emmott', 'Elias', 'Paddy', 'Barth', 'Hadleigh', 'Mitchael', 'Dougie', 'Ric', 'Wildon', 'Tull', 'Hassan', 'Apostolos', 'Prentiss', 'Augie', 'Ransell', 'Martin', 'Giffie', 'Theodor', 'Myles', 'Hewe', 'Raleigh', 'Gomer', 'Willard', 'Xavier', 'Keil', 'Mason', 'Fredrick', 'Lawton', 'Jermayne', 'Murdoch', 'Tybalt', 'Harman', 'Gerhardt', 'Travers', 'Lon', 'Elliot', 'Creighton', 'Raynor', 'Thorstein', 'Duffy', 'Vaclav', 'Bharat', 'Wynton', 'Bennett', 'Egbert', 'Mic', 'Warren', 'Wilbert', 'Wain', 'Mark', 'Renado', 'Jonas', 'Vern', 'Zack', 'Zackariah', 'Ephrem', 'Grant', 'Ulises', 'Barri', 'Rabbi', 'Lawerence', 'Marcello', 'Vasili', 'Pedro', 'Julio', 'Quintin', 'Baxter', 'Coleman', 'Reynolds', 'Judson', 'Leonardo', 'Phillipe', 'Barret', 'Cobbie', 'Jean-Christophe', 'Porter', 'Nikolai', 'Gideon', 'Chariot', 'Elwood', 'Andrey', 'Wendel', 'Waiter', 'Kristos', 'West', 'Urson', 'Puff', 'Augustin', 'Osborn', 'Jerrome', 'Patricio', 'Weber', 'Dwight', 'Alfredo', 'Durant', 'Barr', 'Hashim', 'Derrick', 'Mart', 'Martyn', 'Maurie', 'Arvie', 'Elvin', 'Scott', 'Cole', 'Clement', 'Kostas', 'Dugan', 'Pepillo', 'Alwin', 'Brewer', 'Willey', 'Mort', 'Jonny', 'Eben', 'Scotti', 'Mikael', 'Charlton', 'Virge', 'Stephen', 'Darien', 'Melvyn', 'Winton', 'Wesley', 'Northrup', 'Adrick', 'Lockwood', 'Mathew', 'Josiah', 'Maximilian', 'Kraig', 'Baily', 'Solomon', 'Anson', 'Garwin', 'Alejandro', 'Adolphus', 'Jerrold', 'Nikos', 'Hunt', 'Morris', 'Burl', 'Wash', 'Calvin', 'Hamlet', 'Royce', 'Ulick', 'Kendrick', 'Butler', 'Calhoun', 'Tome', 'Matt', 'Manny', 'Alley', 'Harold', 'Marve', 'Thibaut', 'Ugo', 'Agamemnon', 'Alston', 'Tarzan', 'Wyn', 'Winford', 'Herculie', 'Kenny', 'Bryce', 'Frederik', 'Hersh', 'Sayres', 'Eldon', 'Inglebert', 'Roger', 'Vaughn', 'Alfonse', 'Hirsch', 'Ephraim', 'Skippie', 'Alessandro', 'Jake', 'Rodrigo', 'Kingston', 'Prent', 'Sheffy', 'Nunzio', 'Sheldon', 'Stefano', 'Florian', 'Huntington', 'Davidde', 'Cy', 'Franklyn', 'Chalmers', 'Alfred', 'Vincents', 'Danie', 'Alf', 'Caesar', 'Beauregard', 'Adger', 'Berkley', 'Bard', 'Hanford', 'Hallam', 'Wit', 'Art', 'Paul', 'Raymund', 'Seth', 'Bernardo', 'Chuck', 'Rollo', 'Philip', 'Sigfried', 'Carlo', 'Laurens', 'Fabio', 'Skell', 'Philbert', 'Zachery', 'Gunter', 'Raoul', 'Francisco', 'Rhett', 'Terrell', 'Bogdan', 'Nelsen', 'Leonid', 'Wayne', 'Englebart', 'Frederick', 'Niccolo', 'Hewie', 'Bartlet', 'Maurits', 'Donn', 'Burgess', 'Steve', 'Teodoro', 'Osbourne', 'Praneetf', 'Orton', 'Yardley', 'Garv', 'Joachim', 'Harwell', 'Denis', 'Hewitt', 'Orlando', 'Prince', 'Sullivan', 'Waylan', 'Mackenzie', 'Hudson', 'Bentley', 'Kenyon', 'Brady', 'Ricard', 'Roscoe', 'Abdul', 'Esau', 'Stanwood', 'Ingemar', 'Jason', 'Jonathon', 'Harland', 'Brent', 'Lazarus', 'Wilfred', 'Al', 'Abner', 'Bay', 'Thor', 'Pearce', 'Benn', 'Skip', 'Isaac', 'Prasad', 'Thaine', 'Gaven', 'Gian', 'Eduardo', 'Zebedee', 'Sylvan', 'Trey', 'Mick', 'Thain', 'Hill', 'Giacomo', 'Giles', 'Benson', 'Albrecht', 'Theophyllus', 'Ferd', 'Chev', 'Fremont', 'Noam', 'Ahmed', 'Franklin', 'Matthieu', 'Emery', 'Nathanial', 'Woodrow', 'Gunner', 'Jorge', 'Siward', 'Bud', 'Mahesh', 'James', 'Son', 'Clemente', 'Skye', 'Waldon', 'Hew', 'Walden', 'Berk', 'Emmanuel', 'Chaddy', 'Tobias', 'Everett', 'Stanislaw', 'Amos', 'Nels', 'Winfield', 'Lester', 'Gilberto', 'Ben', 'Michael', 'Westbrooke', 'Fons', 'Elnar', 'Salomon', 'Nicholas', 'Selby', 'Thibaud', 'Lothar', 'Morly', 'Jory', 'Mustafa', 'Nathaniel', 'Xever', 'Abdullah', 'Gino', 'Iggy', 'Gardener', 'Ulysses', 'Harlan', 'Sterling', 'Webb', 'Rutger', 'Carleigh', 'Jamey', 'Thad', 'Parnell', 'Bryon', 'Shaw', 'Rab', 'Ossie', 'Rodger', 'Kalvin', 'Murphy', 'Hank', 'Harcourt', 'Filmore', 'Rich', 'Barty', 'Luis', 'Eduard', 'Irwin', 'Aram', 'Erich', 'Friedric', 'Arne', 'Guthrie', 'Worthy', 'Tymothy', 'Ave', 'Price', 'Russ', 'Partha', 'Lambert', 'Stan', 'Dru', 'Cornellis', 'Marlow', 'Skyler', 'Taber', 'Rolando', 'Sherlock', 'Walt', 'Peyter', 'Sanders', 'Murdock', 'Frederic', 'Rabi', 'Aron', 'Ezechiel', 'Ramesh', 'Sholom', 'Wadsworth', 'Osborne', 'Web', 'Winifield', 'Gerome', 'Churchill', 'Wallace', 'Zechariah', 'Quintus', 'Silvester', 'Wyatan', 'Willis', 'Freemon', 'Tremaine', 'Skipp', 'Daryle', 'Mike', 'Stephanus', 'Xerxes', 'Olaf', 'Englebert', 'Munmro', 'Jeromy', 'Shaughn', 'Patrik', 'Rufe', 'Jared', 'Rubin', 'Rustie', 'Ezekiel', 'Dabney', 'Scottie', 'Fidel', 'Jackson', 'Jae', 'Alden', 'Sayers', 'Graehme', 'Roosevelt', 'Pierre', 'Hewett', 'Taddeus', 'Collins', 'Penrod', 'Fox', 'Fitz', 'Octavius', 'Salvador', 'Lenard', 'Aubert', 'Henrik', 'Hillery', 'Zacharia', 'Moore', 'Willem', 'Hadley', 'Smith', 'Avrom', 'Maison', 'Brendan', 'Moss', 'Casper', 'Prentice', 'Giffard', 'Erasmus', 'Yacov', 'Hunter', 'Rudiger', 'Flinn', 'Oliver', 'Aleck', 'Patrick', 'Tomkin', 'Thatcher', 'Ernest', 'Thadeus', 'Luke', 'Gabriele', 'Zak', 'Ignazio', 'Rodge', 'Sigfrid', 'Mateo', 'Weslie', 'Paten', 'Stanly', 'Mauritz', 'Aziz', 'Quiggly', 'Kimmo', 'Woodman', 'Heinz', 'Hernando', 'Wakefield', 'Dane', 'Shurwood', 'Herrmann', 'Silvanus', 'Wolf', 'Orson', 'Arel', 'Lennie', 'Herrick', 'Sven', 'Dexter', 'Gregor', 'Saunder', 'Bradly', 'Meir', 'Josef', 'Jephthah', 'Lovell', 'Francesco', 'Janos', 'Felix', 'Roman', 'Wait', 'Herby', 'Udall', 'Sherman', 'Sutherland', 'Easton', 'Helmuth', 'Brock', 'Johny', 'Giorgio', 'Georges', 'Desmond', 'Aharon', 'Aube', 'Barron', 'Alonzo', 'Waverly', 'Ferinand', 'Wye', 'Izak', 'Friedrich', 'Gav', 'Staford', 'Ahmad', 'Werner', 'Berkie', 'Mischa', 'Flem', 'Harmon', 'Dario', 'Wilek', 'Marcellus', 'Quill', 'Darius', 'Udale', 'Wolfram', 'Sanford', 'Mylo', 'Nathanael', 'Chrisy', 'Dave', 'Nicolas', 'Laurence', 'Maxim', 'Harvey', 'Luther', 'Sloane', 'Jeffery', 'Vito', 'Emmery', 'Rik', 'Graig', 'Saxon', 'Kaiser', 'Rodd', 'Rogers', 'Aldo', 'Michail', 'Steven', 'Sarge', 'Chevy', 'Marcus', 'Cyrill', 'Yuri', 'Zelig', 'Alasdair', 'Francois', 'Jed', 'Garrett', 'Horatio', 'Terrel', 'Bertram', 'Thaddus', 'Shamus', 'Humbert', 'Mika', 'Johnathon', 'Jefferson', 'Caldwell', 'Georg', 'Frazier', 'Kendall', 'Oran', 'Ken', 'Robinson', 'Dustin', 'Sax', 'Nelson', 'Tito', 'Edgar', 'Hiram', 'Jonathan', 'Noah', 'Eugen', 'Godwin', 'Christophe', 'Drake', 'Samson', 'Augustus', 'Ely', 'Patin', 'Damon', 'Bartholomeo', 'Che', 'Ulrick', 'Ethan', 'Renaud', 'Hercule', 'Gilles', 'Terrance', 'Welsh', 'Christos', 'Constantin', 'Hewet', 'Marchall', 'Joao', 'Kent', 'Miguel', 'Parry', 'Burke', 'Corbin', 'Garrott', 'Gifford', 'Kermie', 'Wilson', 'Yance', 'Hendrick', 'Vinod', 'Ambrose', 'Mikey', 'Venkat', 'Wilfrid', 'Emory', 'Tan', 'Jeffie', 'Gustavo', 'Hamilton', 'Eustace', 'Nickolas', 'Lucien', 'Hagen', 'Davie', 'Barton', 'Crawford', 'Jeramie', 'Rochester', 'Ansell', 'Giffy', 'Saw', 'Lionel', 'Connor', 'Dante', 'Westley', 'Ebenezer', 'Jessee', 'Rourke', 'Dov', 'Ahmet', 'Bradford', 'Vic', 'Immanuel', 'Stillmann', 'Hasheem', 'Ravil', 'Petr', 'Ruddie', 'Wolfgang', 'Thaddeus', 'Lawson', 'Garvy', 'Tanner', 'Clarance', 'Renaldo', 'Ruddy', 'Husain', 'Hart', 'Boris', 'Neal', 'Rollin', 'Caleb', 'Michale', 'Wainwright', 'Tremayne', 'Niven', 'Mortimer', 'Tarrant', 'Townsend', 'Giffer', 'Erhard', 'Sancho', 'Cyrus', 'Kalle', 'Ross', 'Romain', 'Salomo', 'Warde', 'Delmar', 'Jim', 'Alvin', 'Bertrand', 'Nero', 'Gilburt', 'Ruperto', 'Jerri', 'Jarvis', 'Upton', 'Hamid', 'Hussein', 'Joe', 'Archie', 'Spense', 'Laird', 'Moses', 'Tann', 'Ricardo', 'Stearn', 'Hayden', 'Olle', 'Ebeneser', 'Don', 'Christorpher', 'Reilly', 'Ronald', 'Curtis', 'Sergent', 'Artur', 'Barnabas', 'Barde', 'Ingelbert', 'Thayne', 'Tiler', 'Rolph', 'Layton', 'Haskell', 'Rad', 'Von', 'Durante', 'Olag', 'Davon', 'Hakim', 'Ralf', 'Burt', 'Finley', 'Garold', 'Rickey', 'Konstantin', 'Abraham', 'Lemmy', 'Padraig', 'Obie', 'Cain', 'Shalom', 'Parke', 'Gaspar', 'Christiano', 'Cob', 'Isaak', 'Siddhartha', 'Jean-Paul', 'Demetri', 'Paolo', 'Raul', 'Ludvig', 'Zachariah', 'Nathanil', 'Trever', 'Ervin', 'Major', 'Ware', 'Stillman', 'Titos', 'Woodie', 'Caspar', 'Deryl', 'Godard', 'Flynn', 'Quint', 'Mose', 'Teador', 'Lowell', 'Luciano', 'Donovan', 'Orin', 'Armond', 'Fyodor', 'Tedman', 'Tabor', 'Trevar', 'Hari', 'Avi', 'Henry', 'Roddy', 'Madison', 'Gunther', 'Benedict', 'Roberto', 'Antoine', 'Durward', 'Harvie', 'Tailor', 'Adolfo', 'Aldrich', 'Leo', 'Sly', 'Woody', 'Constantinos', 'Giuseppe', 'Washington', 'Phineas', 'Ellsworth', 'Sheffie', 'Hervey', 'Leonard', 'Errol', 'Barthel', 'Hoyt', 'Jessey', 'Rudyard', 'Clifford', 'Emilio', 'Shepard', 'Torry', 'Avram', 'Eric', 'Roderich', 'Wayland', 'Niall', 'Saul', 'Herschel', 'Erik', 'Ham', 'Hugo', 'Thorn', 'Raimund', 'Louie', 'Sumner', 'Tanny', 'Wilber', 'Judas', 'Obadiah', 'Manfred', 'Uli', 'Sammie', 'Humphrey', 'Guido', 'Sheppard', 'Wallas', 'Micah', 'Byron', 'Wade', 'Giancarlo', 'Weylin', 'Zach', 'Quinton', 'Levin', 'Husein', 'Virgilio', 'Walker', 'Hugh', 'Jerold', 'Norris', 'Dan', 'Torrance', 'Rodney', 'Chadd', 'Ingram', 'Ximenes', 'John', 'Murray', 'Andros', 'Sawyer', 'Rod', 'Yves', 'Kirk', 'Arvy', 'Julius', 'Berchtold', 'Braden', 'Ferdie', 'Reggis', 'Dean', 'Dimitrou', 'Richmond', 'Sebastian', 'Antony', 'Ulrich', 'Leighton', 'Radcliffe', 'Say', 'Benji', 'Clyde', 'Dieter', 'Alec', 'Kam', 'Christoph', 'Jonah', 'Adolphe', 'Herbert', 'Norm', 'Broddie', 'Matteo', 'Derk', 'Dwaine', 'Chauncey', 'Lion', 'Maynord', 'Othello', 'Larry', 'Doyle', 'Oswell', 'Tabb', 'Adams', 'Osmund', 'Sivert', 'Stefan', 'Konrad', 'Hezekiah', 'Hamnet', 'Neil', 'Webster', 'Robb', 'Aditya', 'Stafford', 'Hamil', 'Gustaf', 'Meredeth', 'Farley', 'Arvin', 'Ximenez', 'Chester', 'Chevalier', 'Jeb', 'Graeme', 'Phip', 'Wylie', 'Pieter', 'Terrence', 'Rafe', 'Giff', 'Sinclare', 'Siffre', 'Ed', 'Garcia', 'Jeff', 'Nestor', 'Bartholemy', 'Ignatius', 'Mendel', 'Hayes', 'Adnan', 'Aaron', 'Vassili', 'Tre', 'Angus', 'Garvey', 'Fritz', 'Ramsay', 'Teodor', 'Cooper', 'Dom', 'Gordan', 'Spenser', 'Er', 'Stavros', 'Morley', 'Zachary', 'Amory', 'Hendrik', 'Hanson', 'Waldo', 'Gordon', 'Federico', 'Mattheus', 'Austen', 'Vilhelm', 'Myron', 'Hale', 'Godfree', 'Gregory', 'Ronen', 'Chance', 'Waring', 'Mitchell', 'Salomone', 'Bayard', 'Hogan', 'Tedrick', 'Erwin', 'Guthry', 'Sutton', 'Chaim', 'Johan', 'Gustav', 'Pembroke', 'Preston', 'Reginald', 'Geoff', 'Merv', 'Andrej', 'Grove', 'Lemar', 'Wake', 'Ethelred', 'Marcelo', 'Shanan', 'Lamar', 'Zacherie', 'Curtice', 'Emmet', 'Barny', 'Arlo', 'Clay', 'Avery', 'Kevin', 'Jeremy', 'Albert', 'Hamish', 'Valentin', 'Clancy', 'Garfinkel', 'Alfonzo', 'Bjorn', 'Leonhard', 'Forest', 'Andri', 'Richardo', 'Ellis', 'Geraldo', 'Toddie', 'Waine', 'Arnoldo', 'David', 'Silvain', 'Izzy', 'Thurston', 'Roarke', 'Nick', 'Neddy', 'Davide', 'Warden', 'Stanfield', 'Hy', 'Temp', 'Weider', 'Enrico', 'Tiebout', 'Merwin', 'Timothee', 'Scarface', 'Fazeel', 'Shepperd', 'Vlad', 'Grover', 'Duke', 'Rolfe', 'Garp', 'Graham', 'Pyotr', 'Ozzy', 'Harv', 'Reza', 'Clayborne', 'Charley', 'Silvano', 'Tanney', 'Harrison', 'Justis', 'Lew', 'Franz', 'Locke', 'Rajeev', 'Griff', 'Sloan', 'Lance', 'Elden', 'Sheridan', 'Osbert', 'Tudor', 'Anthony', 'Timothy', 'Montague', 'Andreas', 'Marshall', 'Rem', 'Pierce', 'Fitzgerald', 'Sebastiano', 'Sully', 'Thom', 'Tibold', 'Flemming', 'Darin', 'Harrold', 'Menard', 'Aristotle', 'Remus', 'Kimball', 'Leonidas', 'Neale', 'Patric', 'Clarence', 'Vladimir', 'Anatollo', 'Logan', 'Moishe', 'Saxe', 'Gustave', 'Jesus', 'Micheal', 'Zary', 'Roderick', 'Talbert', 'Ignaz', 'Elric', 'Mohamad', 'Red', 'Arthur', 'Bela', 'Tobit', 'Merrick', 'Waite', 'Seamus', 'Zane', 'Walther', 'Juan', 'French', 'Charles', 'Antoni', 'Gaston', 'Hasty', 'Emmit', 'Staffard', 'Muhammad', 'Rudie', 'Fabian', 'Zeb', 'Matthaeus', 'Arturo', 'Gearard', 'Matthus', 'Maxfield', 'Noach', 'See', 'Riccardo', 'Waleed', 'Reinhold', 'Odin', 'Rudy', 'Nester', 'Bailey', 'Manuel', 'Salvidor', 'Marmaduke', 'Shep', 'Heathcliff', 'Hamlin', 'Clifton', 'Moises', 'Zollie', 'Hercules', 'Weston', 'Haydon', 'Antonius', 'Pepito', 'Temple', 'Tomas', 'Taylor', 'Boyce', 'Ashton', 'Iain', 'Benjy', 'Harlin', 'Chaddie', 'Truman', 'Towny', 'Penn', 'Neall', 'Hubert', 'Matthew', 'Hersch', 'Zeus', 'Thomas', 'Gasper', 'Mario', 'Lazare', 'Worden', 'Reube', 'Garry', 'Elton', 'Kelvin', 'Sid', 'Lucius', 'Xenos', 'Mace', 'Ritchie', 'Ole', 'Bartlett', 'Sterne', 'Dominick', 'Urbano', 'Jimmy', 'Redford', 'Zared', 'Iago', 'Remington', 'Tad', 'Dmitri', 'Lawrence', 'Carlos', 'Salem', 'Karl', 'Edwin', 'Beck', 'Hamel', 'Matias', 'Mohamed', 'Fonsie', 'Daren', 'Ichabod', 'Les', 'Tirrell', 'Kory', 'Dwain', 'Sting', 'Martainn', 'Phillipp', 'Mayor', 'Nico', 'Ez', 'Gordie', 'Jordon', 'Tedie', 'Vincent', 'Thacher', 'Fowler', 'Orazio', 'Buster', 'Lucio', 'Pate', 'Fraser', 'Raj', 'Ramon', 'Jeremie', 'Si', 'Horacio', 'Evan', 'Micheil', 'Levy', 'Andre', 'Boniface', 'Sheff', 'Normand', 'Tuckie', 'Gershom', 'Isidore', 'Sherwynd', 'Sandor', 'Guillermo', 'Claudius', 'Verney', 'Torin', 'Huntley', 'Abdulkarim', 'Johnathan', 'Robbert', 'Gamaliel', 'Byram', 'Filbert', 'Fleming', 'Shimon', 'Reuben', 'Bartolomei', 'Berke', 'Lucas', 'Nealon', 'Jack', 'Montgomery', 'Hartley', 'Pascale', 'Simeon', 'Markus', 'Smitty', 'Ferdinand', 'Archibald', 'Earl', 'Vince', 'Gallagher', 'Spiro', 'Geoffrey', 'William', 'Tedmund', 'Pascal', 'Bradley', 'Briggs', 'Demetrius', 'Harald', 'Gonzales', 'Merril', 'Zacharie', 'Morrie', 'Reinhard', 'Allin', 'Mitchel', 'Roy', 'Rand', 'Aylmer']\n"
       ]
      }
     ],
     "prompt_number": 16
    },
    {
     "cell_type": "code",
     "collapsed": false,
     "input": [
      "from nltk.corpus import wordnet as wn\n",
      "import nltk"
     ],
     "language": "python",
     "metadata": {},
     "outputs": [],
     "prompt_number": 10
    },
    {
     "cell_type": "code",
     "collapsed": false,
     "input": [
      "dishSynsets = wn.synsets('dish')\n",
      "print(dishSynsets)"
     ],
     "language": "python",
     "metadata": {},
     "outputs": [
      {
       "output_type": "stream",
       "stream": "stdout",
       "text": [
        "[Synset('dish.n.01'), Synset('dish.n.02'), Synset('dish.n.03'), Synset('smasher.n.02'), Synset('dish.n.05'), Synset('cup_of_tea.n.01'), Synset('serve.v.06'), Synset('dish.v.02')]\n"
       ]
      }
     ],
     "prompt_number": 5
    },
    {
     "cell_type": "code",
     "collapsed": false,
     "input": [
      "for synset in dishSynsets:\n",
      "    print( synset.lemma_names())"
     ],
     "language": "python",
     "metadata": {},
     "outputs": [
      {
       "output_type": "stream",
       "stream": "stdout",
       "text": [
        "['dish']\n",
        "['dish']\n",
        "['dish', 'dishful']\n",
        "['smasher', 'stunner', 'knockout', 'beauty', 'ravisher', 'sweetheart', 'peach', 'lulu', 'looker', 'mantrap', 'dish']\n",
        "['dish', 'dish_aerial', 'dish_antenna', 'saucer']\n",
        "['cup_of_tea', 'bag', 'dish']\n",
        "['serve', 'serve_up', 'dish_out', 'dish_up', 'dish']\n",
        "['dish']\n"
       ]
      }
     ],
     "prompt_number": 4
    },
    {
     "cell_type": "code",
     "collapsed": false,
     "input": [
      "wn.synset('dish.n.01').definition()"
     ],
     "language": "python",
     "metadata": {},
     "outputs": [
      {
       "metadata": {},
       "output_type": "pyout",
       "prompt_number": 8,
       "text": [
        "'a piece of dishware normally used as a container for holding or serving food'"
       ]
      }
     ],
     "prompt_number": 8
    },
    {
     "cell_type": "code",
     "collapsed": false,
     "input": [
      "plate = wn.synset('dish.n.01')\n",
      "plate.hypernyms()"
     ],
     "language": "python",
     "metadata": {},
     "outputs": [
      {
       "metadata": {},
       "output_type": "pyout",
       "prompt_number": 14,
       "text": [
        "[Synset('container.n.01'), Synset('crockery.n.01')]"
       ]
      }
     ],
     "prompt_number": 14
    },
    {
     "cell_type": "code",
     "collapsed": false,
     "input": [
      "wn.synset('wheeled_vehicle.n.01').hyponyms()"
     ],
     "language": "python",
     "metadata": {},
     "outputs": [
      {
       "metadata": {},
       "output_type": "pyout",
       "prompt_number": 16,
       "text": [
        "[Synset('baby_buggy.n.01'),\n",
        " Synset('bicycle.n.01'),\n",
        " Synset('boneshaker.n.01'),\n",
        " Synset('car.n.02'),\n",
        " Synset('handcart.n.01'),\n",
        " Synset('horse-drawn_vehicle.n.01'),\n",
        " Synset('motor_scooter.n.01'),\n",
        " Synset('rolling_stock.n.01'),\n",
        " Synset('scooter.n.02'),\n",
        " Synset('self-propelled_vehicle.n.01'),\n",
        " Synset('skateboard.n.01'),\n",
        " Synset('trailer.n.04'),\n",
        " Synset('tricycle.n.01'),\n",
        " Synset('unicycle.n.01'),\n",
        " Synset('wagon.n.01'),\n",
        " Synset('wagon.n.04'),\n",
        " Synset('welcome_wagon.n.01')]"
       ]
      }
     ],
     "prompt_number": 16
    },
    {
     "cell_type": "code",
     "collapsed": false,
     "input": [
      "wn.synset('car.n.02').hyponyms()"
     ],
     "language": "python",
     "metadata": {},
     "outputs": [
      {
       "metadata": {},
       "output_type": "pyout",
       "prompt_number": 20,
       "text": [
        "[Synset('baggage_car.n.01'),\n",
        " Synset('cabin_car.n.01'),\n",
        " Synset('club_car.n.01'),\n",
        " Synset('freight_car.n.01'),\n",
        " Synset('guard's_van.n.01'),\n",
        " Synset('handcar.n.01'),\n",
        " Synset('mail_car.n.01'),\n",
        " Synset('passenger_car.n.01'),\n",
        " Synset('slip_coach.n.01'),\n",
        " Synset('tender.n.04'),\n",
        " Synset('van.n.03')]"
       ]
      }
     ],
     "prompt_number": 20
    },
    {
     "cell_type": "code",
     "collapsed": false,
     "input": [
      "wn.synset('guard\\'s_van.n.01').definition()"
     ],
     "language": "python",
     "metadata": {},
     "outputs": [
      {
       "metadata": {},
       "output_type": "pyout",
       "prompt_number": 23,
       "text": [
        "'the car on a train that is occupied by the guard'"
       ]
      }
     ],
     "prompt_number": 23
    },
    {
     "cell_type": "code",
     "collapsed": false,
     "input": [
      "for guardSynsets in wn.synsets('guard'):\n",
      "    print(guardSynsets.definition())"
     ],
     "language": "python",
     "metadata": {},
     "outputs": [
      {
       "output_type": "stream",
       "stream": "stdout",
       "text": [
        "a person who keeps watch over something or someone\n",
        "the person who plays that position on a football team\n",
        "a device designed to prevent injury or accidents\n",
        "a posture of defence in boxing or fencing\n",
        "the person who plays the position of guard on a basketball team\n",
        "a military unit serving to protect some place or person\n",
        "a precautionary measure warding off impending danger or damage or injury etc.\n",
        "the duty of serving as a sentry\n",
        "(American football) a position on the line of scrimmage\n",
        "a position on a basketball team\n",
        "to keep watch over\n",
        "watch over or shield from danger or harm; protect\n",
        "protect against a challenge or attack\n",
        "take precautions in order to avoid some unwanted consequence\n"
       ]
      }
     ],
     "prompt_number": 28
    },
    {
     "cell_type": "code",
     "collapsed": false,
     "input": [
      "len(wn.synset('car.n.01').hyponyms())"
     ],
     "language": "python",
     "metadata": {},
     "outputs": [
      {
       "metadata": {},
       "output_type": "pyout",
       "prompt_number": 49,
       "text": [
        "31"
       ]
      }
     ],
     "prompt_number": 49
    },
    {
     "cell_type": "code",
     "collapsed": false,
     "input": [
      "def supergloss(s):\n",
      "    synset = wn.synset(s)\n",
      "    stringResult = \"\"\n",
      "    stringResult += synset.definition()\n",
      "    for hypernym in synset.hypernyms():\n",
      "        stringResult += hypernym.definition()\n",
      "    for hyponym in synset.hyponyms():\n",
      "        stringResult += hyponym.definition()\n",
      "    return stringResult"
     ],
     "language": "python",
     "metadata": {},
     "outputs": [],
     "prompt_number": 41
    },
    {
     "cell_type": "code",
     "collapsed": false,
     "input": [
      "supergloss('car.n.02')"
     ],
     "language": "python",
     "metadata": {},
     "outputs": [
      {
       "metadata": {},
       "output_type": "pyout",
       "prompt_number": 42,
       "text": [
        "\"a wheeled vehicle adapted to the rails of railroada vehicle that moves on wheels and usually has a container for transporting things or peoplea railway car where passengers' bags are carrieda car on a freight train for use of the train crew; usually the last car on the trainrailroad car having a bar and tables and lounge chairsa railway car that carries freightthe car on a train that is occupied by the guarda small railroad car propelled by hand or by a small motora railway car in which mail is transported and sorteda railcar where passengers ridea railway car at the end of the train; it can be detached without stopping the traincar attached to a locomotive to carry fuel and water(Great Britain) a closed railroad car that carries baggage or freight\""
       ]
      }
     ],
     "prompt_number": 42
    },
    {
     "cell_type": "code",
     "collapsed": false,
     "input": [
      "#2.26\n",
      "nounSynsets = wn.all_synsets('n')\n",
      "nounCount = 0;\n",
      "nounLen = 0.0;\n",
      "for synset in nounSynsets:\n",
      "    hyponymCount = len(synset.hyponyms())\n",
      "    nounCount += hyponymCount\n",
      "    if ( hyponymCount > 0 ):\n",
      "        nounLen += 1.0\n",
      "hyponymBranchFactor = nounCount/nounLen\n",
      "print (hyponymBranchFactor)"
     ],
     "language": "python",
     "metadata": {},
     "outputs": [
      {
       "output_type": "stream",
       "stream": "stdout",
       "text": [
        "4.543820763194153\n"
       ]
      }
     ],
     "prompt_number": 55
    },
    {
     "cell_type": "code",
     "collapsed": false,
     "input": [
      "sampleSize"
     ],
     "language": "python",
     "metadata": {},
     "outputs": [
      {
       "metadata": {},
       "output_type": "pyout",
       "prompt_number": 44,
       "text": [
        "<generator object all_synsets at 0x7f168449a288>"
       ]
      }
     ],
     "prompt_number": 44
    },
    {
     "cell_type": "code",
     "collapsed": false,
     "input": [],
     "language": "python",
     "metadata": {},
     "outputs": []
    }
   ],
   "metadata": {}
  }
 ]
}